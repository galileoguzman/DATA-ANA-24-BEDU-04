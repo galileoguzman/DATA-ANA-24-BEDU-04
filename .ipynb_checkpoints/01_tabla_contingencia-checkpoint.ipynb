{
 "cells": [
  {
   "cell_type": "markdown",
   "id": "c50816df-66ef-48e1-84f3-96bebc472fc5",
   "metadata": {},
   "source": [
    "### Tablas de contingencia"
   ]
  },
  {
   "cell_type": "code",
   "execution_count": 2,
   "id": "718625ac-c8be-49d1-930e-569dd7b27b08",
   "metadata": {},
   "outputs": [
    {
     "data": {
      "text/html": [
       "<div>\n",
       "<style scoped>\n",
       "    .dataframe tbody tr th:only-of-type {\n",
       "        vertical-align: middle;\n",
       "    }\n",
       "\n",
       "    .dataframe tbody tr th {\n",
       "        vertical-align: top;\n",
       "    }\n",
       "\n",
       "    .dataframe thead th {\n",
       "        text-align: right;\n",
       "    }\n",
       "</style>\n",
       "<table border=\"1\" class=\"dataframe\">\n",
       "  <thead>\n",
       "    <tr style=\"text-align: right;\">\n",
       "      <th></th>\n",
       "      <th>Fruta</th>\n",
       "      <th>Es Roja</th>\n",
       "    </tr>\n",
       "  </thead>\n",
       "  <tbody>\n",
       "    <tr>\n",
       "      <th>0</th>\n",
       "      <td>Manzana</td>\n",
       "      <td>Sí</td>\n",
       "    </tr>\n",
       "    <tr>\n",
       "      <th>1</th>\n",
       "      <td>Manzana</td>\n",
       "      <td>Sí</td>\n",
       "    </tr>\n",
       "    <tr>\n",
       "      <th>2</th>\n",
       "      <td>Manzana</td>\n",
       "      <td>No</td>\n",
       "    </tr>\n",
       "    <tr>\n",
       "      <th>3</th>\n",
       "      <td>Plátano</td>\n",
       "      <td>No</td>\n",
       "    </tr>\n",
       "    <tr>\n",
       "      <th>4</th>\n",
       "      <td>Cereza</td>\n",
       "      <td>Sí</td>\n",
       "    </tr>\n",
       "  </tbody>\n",
       "</table>\n",
       "</div>"
      ],
      "text/plain": [
       "     Fruta Es Roja\n",
       "0  Manzana      Sí\n",
       "1  Manzana      Sí\n",
       "2  Manzana      No\n",
       "3  Plátano      No\n",
       "4   Cereza      Sí"
      ]
     },
     "execution_count": 2,
     "metadata": {},
     "output_type": "execute_result"
    }
   ],
   "source": [
    "import pandas as pd\n",
    "\n",
    "data = {\n",
    "    'Fruta': ['Manzana', 'Manzana', 'Manzana', 'Plátano', 'Cereza', 'Uva', 'Uva', 'Naranja', 'Naranja', 'Naranja'],\n",
    "    'Es Roja': ['Sí', 'Sí', 'No', 'No', 'Sí', 'Sí', 'No', 'No', 'No', 'No']\n",
    "}\n",
    "\n",
    "df = pd.DataFrame(data)\n",
    "df.head()"
   ]
  },
  {
   "cell_type": "code",
   "execution_count": null,
   "id": "7f02c1db-d4b8-41d0-8112-dba191875a6f",
   "metadata": {},
   "outputs": [],
   "source": []
  }
 ],
 "metadata": {
  "kernelspec": {
   "display_name": "Python 3 (ipykernel)",
   "language": "python",
   "name": "python3"
  },
  "language_info": {
   "codemirror_mode": {
    "name": "ipython",
    "version": 3
   },
   "file_extension": ".py",
   "mimetype": "text/x-python",
   "name": "python",
   "nbconvert_exporter": "python",
   "pygments_lexer": "ipython3",
   "version": "3.10.5"
  }
 },
 "nbformat": 4,
 "nbformat_minor": 5
}
